{
 "cells": [
  {
   "attachments": {},
   "cell_type": "markdown",
   "metadata": {},
   "source": [
    "## Import dependencies and data"
   ]
  },
  {
   "cell_type": "code",
   "execution_count": 1,
   "metadata": {},
   "outputs": [],
   "source": [
    "#import dependencies\n",
    "import pandas as pd\n",
    "import json\n",
    "import matplotlib.pyplot as plt\n"
   ]
  },
  {
   "cell_type": "code",
   "execution_count": 2,
   "metadata": {},
   "outputs": [],
   "source": [
    "path = \"../data/clean_data.json\""
   ]
  },
  {
   "attachments": {},
   "cell_type": "markdown",
   "metadata": {},
   "source": [
    "#### Converting the json to a dataframe for analysis"
   ]
  },
  {
   "cell_type": "code",
   "execution_count": 3,
   "metadata": {},
   "outputs": [
    {
     "data": {
      "text/html": [
       "<div>\n",
       "<style scoped>\n",
       "    .dataframe tbody tr th:only-of-type {\n",
       "        vertical-align: middle;\n",
       "    }\n",
       "\n",
       "    .dataframe tbody tr th {\n",
       "        vertical-align: top;\n",
       "    }\n",
       "\n",
       "    .dataframe thead th {\n",
       "        text-align: right;\n",
       "    }\n",
       "</style>\n",
       "<table border=\"1\" class=\"dataframe\">\n",
       "  <thead>\n",
       "    <tr style=\"text-align: right;\">\n",
       "      <th></th>\n",
       "      <th>title</th>\n",
       "      <th>company_name</th>\n",
       "      <th>location</th>\n",
       "      <th>via</th>\n",
       "      <th>description</th>\n",
       "      <th>extensions</th>\n",
       "      <th>schedule_type</th>\n",
       "      <th>work_from_home</th>\n",
       "      <th>salary_hourly</th>\n",
       "      <th>salary_yearly</th>\n",
       "      <th>salary_standardized</th>\n",
       "      <th>description_tokens</th>\n",
       "    </tr>\n",
       "  </thead>\n",
       "  <tbody>\n",
       "    <tr>\n",
       "      <th>0</th>\n",
       "      <td>Data analyst | Wichita, KS | Fulltime</td>\n",
       "      <td>Dice</td>\n",
       "      <td>Wichita, KS</td>\n",
       "      <td>via LinkedIn</td>\n",
       "      <td>Role: Data analyst Location: Wichita, KS (Day ...</td>\n",
       "      <td>['12 hours ago', 'Full-time', 'No degree menti...</td>\n",
       "      <td>Full-time</td>\n",
       "      <td>NaN</td>\n",
       "      <td>NaN</td>\n",
       "      <td>NaN</td>\n",
       "      <td>NaN</td>\n",
       "      <td>['excel', 'tableau', 'vba', 'power_bi']</td>\n",
       "    </tr>\n",
       "    <tr>\n",
       "      <th>1</th>\n",
       "      <td>Quality Measures Data Analyst (Remote)</td>\n",
       "      <td>Talentify.io</td>\n",
       "      <td>Anywhere</td>\n",
       "      <td>via LinkedIn</td>\n",
       "      <td>Talentify helps candidates around the world to...</td>\n",
       "      <td>['13 hours ago', 'Work from home', 'Full-time']</td>\n",
       "      <td>Full-time</td>\n",
       "      <td>1.0</td>\n",
       "      <td>NaN</td>\n",
       "      <td>NaN</td>\n",
       "      <td>NaN</td>\n",
       "      <td>['visio', 'word', 'sql', 'tableau', 'powerpoin...</td>\n",
       "    </tr>\n",
       "    <tr>\n",
       "      <th>2</th>\n",
       "      <td>Senior Data Analyst</td>\n",
       "      <td>Naviguard</td>\n",
       "      <td>United States</td>\n",
       "      <td>via My Stateline Jobs</td>\n",
       "      <td>Senior Data Analyst\\nAs a Senior Data Analyst ...</td>\n",
       "      <td>['8 hours ago', 'Full-time']</td>\n",
       "      <td>Full-time</td>\n",
       "      <td>NaN</td>\n",
       "      <td>NaN</td>\n",
       "      <td>NaN</td>\n",
       "      <td>NaN</td>\n",
       "      <td>['sql']</td>\n",
       "    </tr>\n",
       "    <tr>\n",
       "      <th>3</th>\n",
       "      <td>EDI Data Analyst/Business Systems Analyst III ...</td>\n",
       "      <td>Talentify.io</td>\n",
       "      <td>Anywhere</td>\n",
       "      <td>via LinkedIn</td>\n",
       "      <td>Talentify helps candidates around the world to...</td>\n",
       "      <td>['13 hours ago', 'Work from home', 'Full-time']</td>\n",
       "      <td>Full-time</td>\n",
       "      <td>1.0</td>\n",
       "      <td>NaN</td>\n",
       "      <td>NaN</td>\n",
       "      <td>NaN</td>\n",
       "      <td>[]</td>\n",
       "    </tr>\n",
       "    <tr>\n",
       "      <th>4</th>\n",
       "      <td>Data Analyst that can read and find places onl...</td>\n",
       "      <td>Upwork</td>\n",
       "      <td>Anywhere</td>\n",
       "      <td>via Upwork</td>\n",
       "      <td>My company is evaluating hundreds of counties ...</td>\n",
       "      <td>['8 hours ago', 'Work from home', 'Contractor'...</td>\n",
       "      <td>Contractor</td>\n",
       "      <td>1.0</td>\n",
       "      <td>NaN</td>\n",
       "      <td>NaN</td>\n",
       "      <td>NaN</td>\n",
       "      <td>['spreadsheet', 'excel', 'go']</td>\n",
       "    </tr>\n",
       "  </tbody>\n",
       "</table>\n",
       "</div>"
      ],
      "text/plain": [
       "                                               title  company_name  \\\n",
       "0              Data analyst | Wichita, KS | Fulltime          Dice   \n",
       "1             Quality Measures Data Analyst (Remote)  Talentify.io   \n",
       "2                                Senior Data Analyst     Naviguard   \n",
       "3  EDI Data Analyst/Business Systems Analyst III ...  Talentify.io   \n",
       "4  Data Analyst that can read and find places onl...        Upwork   \n",
       "\n",
       "             location                    via  \\\n",
       "0      Wichita, KS              via LinkedIn   \n",
       "1           Anywhere            via LinkedIn   \n",
       "2    United States     via My Stateline Jobs   \n",
       "3           Anywhere            via LinkedIn   \n",
       "4           Anywhere              via Upwork   \n",
       "\n",
       "                                         description  \\\n",
       "0  Role: Data analyst Location: Wichita, KS (Day ...   \n",
       "1  Talentify helps candidates around the world to...   \n",
       "2  Senior Data Analyst\\nAs a Senior Data Analyst ...   \n",
       "3  Talentify helps candidates around the world to...   \n",
       "4  My company is evaluating hundreds of counties ...   \n",
       "\n",
       "                                          extensions schedule_type  \\\n",
       "0  ['12 hours ago', 'Full-time', 'No degree menti...     Full-time   \n",
       "1    ['13 hours ago', 'Work from home', 'Full-time']     Full-time   \n",
       "2                       ['8 hours ago', 'Full-time']     Full-time   \n",
       "3    ['13 hours ago', 'Work from home', 'Full-time']     Full-time   \n",
       "4  ['8 hours ago', 'Work from home', 'Contractor'...    Contractor   \n",
       "\n",
       "   work_from_home  salary_hourly  salary_yearly  salary_standardized  \\\n",
       "0             NaN            NaN            NaN                  NaN   \n",
       "1             1.0            NaN            NaN                  NaN   \n",
       "2             NaN            NaN            NaN                  NaN   \n",
       "3             1.0            NaN            NaN                  NaN   \n",
       "4             1.0            NaN            NaN                  NaN   \n",
       "\n",
       "                                  description_tokens  \n",
       "0            ['excel', 'tableau', 'vba', 'power_bi']  \n",
       "1  ['visio', 'word', 'sql', 'tableau', 'powerpoin...  \n",
       "2                                            ['sql']  \n",
       "3                                                 []  \n",
       "4                     ['spreadsheet', 'excel', 'go']  "
      ]
     },
     "execution_count": 3,
     "metadata": {},
     "output_type": "execute_result"
    }
   ],
   "source": [
    "df = pd.read_json(path)\n",
    "df.head()"
   ]
  },
  {
   "cell_type": "code",
   "execution_count": 4,
   "metadata": {},
   "outputs": [
    {
     "name": "stdout",
     "output_type": "stream",
     "text": [
      "<class 'pandas.core.frame.DataFrame'>\n",
      "RangeIndex: 20435 entries, 0 to 20434\n",
      "Data columns (total 12 columns):\n",
      " #   Column               Non-Null Count  Dtype  \n",
      "---  ------               --------------  -----  \n",
      " 0   title                20435 non-null  object \n",
      " 1   company_name         20435 non-null  object \n",
      " 2   location             20420 non-null  object \n",
      " 3   via                  20435 non-null  object \n",
      " 4   description          20435 non-null  object \n",
      " 5   extensions           20435 non-null  object \n",
      " 6   schedule_type        20306 non-null  object \n",
      " 7   work_from_home       9093 non-null   float64\n",
      " 8   salary_hourly        2286 non-null   float64\n",
      " 9   salary_yearly        1601 non-null   float64\n",
      " 10  salary_standardized  3893 non-null   float64\n",
      " 11  description_tokens   20435 non-null  object \n",
      "dtypes: float64(4), object(8)\n",
      "memory usage: 1.9+ MB\n"
     ]
    }
   ],
   "source": [
    "df.info()"
   ]
  },
  {
   "attachments": {},
   "cell_type": "markdown",
   "metadata": {},
   "source": [
    "## Work From Home vs. In Office Postings"
   ]
  },
  {
   "cell_type": "code",
   "execution_count": 5,
   "metadata": {},
   "outputs": [],
   "source": [
    "# Convert the column type to string\n",
    "df['work_from_home'] = df['work_from_home'].astype(str)\n",
    "\n",
    "# Change the values to make them more descriptive\n",
    "df.loc[df['work_from_home'] == 'nan', 'work_from_home'] = 'office'\n",
    "df.loc[df['work_from_home'] == '1.0', 'work_from_home'] = 'remote'"
   ]
  },
  {
   "cell_type": "code",
   "execution_count": 6,
   "metadata": {},
   "outputs": [
    {
     "data": {
      "text/html": [
       "<div>\n",
       "<style scoped>\n",
       "    .dataframe tbody tr th:only-of-type {\n",
       "        vertical-align: middle;\n",
       "    }\n",
       "\n",
       "    .dataframe tbody tr th {\n",
       "        vertical-align: top;\n",
       "    }\n",
       "\n",
       "    .dataframe thead th {\n",
       "        text-align: right;\n",
       "    }\n",
       "</style>\n",
       "<table border=\"1\" class=\"dataframe\">\n",
       "  <thead>\n",
       "    <tr style=\"text-align: right;\">\n",
       "      <th></th>\n",
       "      <th>wfh</th>\n",
       "      <th>count</th>\n",
       "    </tr>\n",
       "    <tr>\n",
       "      <th>type</th>\n",
       "      <th></th>\n",
       "      <th></th>\n",
       "    </tr>\n",
       "  </thead>\n",
       "  <tbody>\n",
       "    <tr>\n",
       "      <th>In Office</th>\n",
       "      <td>office</td>\n",
       "      <td>11342</td>\n",
       "    </tr>\n",
       "    <tr>\n",
       "      <th>Remote</th>\n",
       "      <td>remote</td>\n",
       "      <td>9093</td>\n",
       "    </tr>\n",
       "  </tbody>\n",
       "</table>\n",
       "</div>"
      ],
      "text/plain": [
       "              wfh  count\n",
       "type                    \n",
       "In Office  office  11342\n",
       "Remote     remote   9093"
      ]
     },
     "execution_count": 6,
     "metadata": {},
     "output_type": "execute_result"
    }
   ],
   "source": [
    "remote_df = df['work_from_home'].value_counts().rename_axis('wfh').reset_index(name='count')\n",
    "remote_df['type'] = ['In Office', 'Remote']\n",
    "remote_df = remote_df.set_index('type')\n",
    "remote_df"
   ]
  },
  {
   "cell_type": "code",
   "execution_count": 7,
   "metadata": {},
   "outputs": [
    {
     "data": {
      "text/plain": [
       "<Figure size 7200x7200 with 0 Axes>"
      ]
     },
     "metadata": {},
     "output_type": "display_data"
    },
    {
     "data": {
      "image/png": "[encoded data removed]",
      "text/plain": [
       "<Figure size 432x288 with 1 Axes>"
      ]
     },
     "metadata": {},
     "output_type": "display_data"
    }
   ],
   "source": [
    "plt.figure(figsize=(100, 100))\n",
    "remote_df.plot.pie(y='count', colors = ['#2eb37e', '#2e778d'])\n",
    "plt.title('Work From Home vs. In Office Postings')\n",
    "plt.ylabel(' ')\n",
    "plt.savefig('../static/images/wfh_office.png', bbox_inches = 'tight')\n",
    "plt.show()"
   ]
  },
  {
   "attachments": {},
   "cell_type": "markdown",
   "metadata": {},
   "source": [
    "## Salary Standardized to Yearly Pay"
   ]
  },
  {
   "cell_type": "code",
   "execution_count": 8,
   "metadata": {},
   "outputs": [
    {
     "data": {
      "image/png": "[encoded data removed]",
      "text/plain": [
       "<Figure size 1152x864 with 1 Axes>"
      ]
     },
     "metadata": {
      "needs_background": "light"
     },
     "output_type": "display_data"
    }
   ],
   "source": [
    "salary_list = list(df['salary_standardized'])\n",
    "\n",
    "plt.figure(figsize=(16,12))\n",
    "plt.hist(salary_list, bins = 15, color = \"#2EB37E\", ec=\"#5C367F\")\n",
    "plt.title('Salary Standardized to Yearly Pay')\n",
    "plt.ylabel('Number of Job Postings')\n",
    "plt.xlabel('$USD Per Year')\n",
    "plt.savefig('../static/images/salary_standardized.png', bbox_inches = 'tight')\n",
    "plt.show()"
   ]
  },
  {
   "attachments": {},
   "cell_type": "markdown",
   "metadata": {},
   "source": [
    "## Number of Postings Per Job Title (Top 10)"
   ]
  },
  {
   "cell_type": "code",
   "execution_count": 9,
   "metadata": {},
   "outputs": [
    {
     "data": {
      "text/plain": [
       "Data Analyst                                                   2552\n",
       "Senior Data Analyst                                             741\n",
       "Data Analyst II                                                 336\n",
       "Lead Data Analyst                                               288\n",
       "Sr. Data Analyst, Marketing Operations                          266\n",
       "                                                               ... \n",
       "Data analysis excel                                               1\n",
       "Google Analytics expert et formateur                              1\n",
       "Timeseries Data Analysis using Python on MongoDB and Oracle       1\n",
       "Teaching how to use inverse poisson in excel                      1\n",
       "Lead FP&A Analyst- Remote, US                                     1\n",
       "Name: title, Length: 7847, dtype: int64"
      ]
     },
     "execution_count": 9,
     "metadata": {},
     "output_type": "execute_result"
    }
   ],
   "source": [
    "title_df = df['title'].value_counts()\n",
    "title_df"
   ]
  },
  {
   "cell_type": "code",
   "execution_count": 10,
   "metadata": {},
   "outputs": [
    {
     "data": {
      "text/plain": [
       "Data Analyst                              2676\n",
       "Senior Data Analyst                        752\n",
       "Data Analyst Ii                            367\n",
       "Lead Data Analyst                          292\n",
       "Sr. Data Analyst, Marketing Operations     266\n",
       "Business Data Analyst                      228\n",
       "Data Scientist                             166\n",
       "Data Analyst Iii                           132\n",
       "Sr. Data Analyst                           119\n",
       "Marketing Data Analyst                     117\n",
       "Name: title, dtype: int64"
      ]
     },
     "execution_count": 10,
     "metadata": {},
     "output_type": "execute_result"
    }
   ],
   "source": [
    "#convert all job titles to lowercase to account for inconsistencies in casing\n",
    "df['title'] = df['title'].str.lower()\n",
    "#convert to title case\n",
    "df['title'] = df['title'].str.title()\n",
    "title_lc_df = df['title'].value_counts()\n",
    "title_lc_df.head(10)"
   ]
  },
  {
   "cell_type": "code",
   "execution_count": 11,
   "metadata": {},
   "outputs": [
    {
     "data": {
      "image/png": "[encoded data removed]",
      "text/plain": [
       "<Figure size 1152x864 with 1 Axes>"
      ]
     },
     "metadata": {
      "needs_background": "light"
     },
     "output_type": "display_data"
    }
   ],
   "source": [
    "#filter top 10 job titles\n",
    "top_ten_titles = title_lc_df.head(10)\n",
    "plt.figure(figsize=(16,12))\n",
    "top_ten_titles.plot(kind='bar', color= '#5C367F')\n",
    "plt.ylabel('Number of Job Postings')\n",
    "plt.xlabel('Job Title')\n",
    "plt.title('Number of Postings Per Job Title (Top 10)')\n",
    "#plt.xticks(rotation = 45)\n",
    "plt.savefig('../static/images/postings_per_title.png', bbox_inches = 'tight')\n",
    "plt.show()"
   ]
  },
  {
   "attachments": {},
   "cell_type": "markdown",
   "metadata": {},
   "source": [
    "Title vs Salary comparison"
   ]
  },
  {
   "cell_type": "code",
   "execution_count": 12,
   "metadata": {},
   "outputs": [
    {
     "data": {
      "text/html": [
       "<div>\n",
       "<style scoped>\n",
       "    .dataframe tbody tr th:only-of-type {\n",
       "        vertical-align: middle;\n",
       "    }\n",
       "\n",
       "    .dataframe tbody tr th {\n",
       "        vertical-align: top;\n",
       "    }\n",
       "\n",
       "    .dataframe thead th {\n",
       "        text-align: right;\n",
       "    }\n",
       "</style>\n",
       "<table border=\"1\" class=\"dataframe\">\n",
       "  <thead>\n",
       "    <tr style=\"text-align: right;\">\n",
       "      <th></th>\n",
       "      <th>title</th>\n",
       "      <th>salary_standardized</th>\n",
       "    </tr>\n",
       "  </thead>\n",
       "  <tbody>\n",
       "    <tr>\n",
       "      <th>0</th>\n",
       "      <td>Data Analyst | Wichita, Ks | Fulltime</td>\n",
       "      <td>NaN</td>\n",
       "    </tr>\n",
       "    <tr>\n",
       "      <th>1</th>\n",
       "      <td>Quality Measures Data Analyst (Remote)</td>\n",
       "      <td>NaN</td>\n",
       "    </tr>\n",
       "    <tr>\n",
       "      <th>2</th>\n",
       "      <td>Senior Data Analyst</td>\n",
       "      <td>NaN</td>\n",
       "    </tr>\n",
       "    <tr>\n",
       "      <th>3</th>\n",
       "      <td>Edi Data Analyst/Business Systems Analyst Iii ...</td>\n",
       "      <td>NaN</td>\n",
       "    </tr>\n",
       "    <tr>\n",
       "      <th>4</th>\n",
       "      <td>Data Analyst That Can Read And Find Places Onl...</td>\n",
       "      <td>NaN</td>\n",
       "    </tr>\n",
       "    <tr>\n",
       "      <th>...</th>\n",
       "      <td>...</td>\n",
       "      <td>...</td>\n",
       "    </tr>\n",
       "    <tr>\n",
       "      <th>20430</th>\n",
       "      <td>Marketing Data &amp; Bi Analyst Ii</td>\n",
       "      <td>103781.0</td>\n",
       "    </tr>\n",
       "    <tr>\n",
       "      <th>20431</th>\n",
       "      <td>Lead-Data Analyst</td>\n",
       "      <td>144481.5</td>\n",
       "    </tr>\n",
       "    <tr>\n",
       "      <th>20432</th>\n",
       "      <td>Lead-Data Analyst</td>\n",
       "      <td>144481.5</td>\n",
       "    </tr>\n",
       "    <tr>\n",
       "      <th>20433</th>\n",
       "      <td>Lead-Data Analyst</td>\n",
       "      <td>144481.5</td>\n",
       "    </tr>\n",
       "    <tr>\n",
       "      <th>20434</th>\n",
       "      <td>Institutional Credit Management - Lending Data...</td>\n",
       "      <td>132315.0</td>\n",
       "    </tr>\n",
       "  </tbody>\n",
       "</table>\n",
       "<p>20435 rows × 2 columns</p>\n",
       "</div>"
      ],
      "text/plain": [
       "                                                   title  salary_standardized\n",
       "0                  Data Analyst | Wichita, Ks | Fulltime                  NaN\n",
       "1                 Quality Measures Data Analyst (Remote)                  NaN\n",
       "2                                    Senior Data Analyst                  NaN\n",
       "3      Edi Data Analyst/Business Systems Analyst Iii ...                  NaN\n",
       "4      Data Analyst That Can Read And Find Places Onl...                  NaN\n",
       "...                                                  ...                  ...\n",
       "20430                     Marketing Data & Bi Analyst Ii             103781.0\n",
       "20431                                  Lead-Data Analyst             144481.5\n",
       "20432                                  Lead-Data Analyst             144481.5\n",
       "20433                                  Lead-Data Analyst             144481.5\n",
       "20434  Institutional Credit Management - Lending Data...             132315.0\n",
       "\n",
       "[20435 rows x 2 columns]"
      ]
     },
     "execution_count": 12,
     "metadata": {},
     "output_type": "execute_result"
    }
   ],
   "source": [
    "#create new dataframe with only the job title and salary information for comparison\n",
    "title_salary_df = df[['title', 'salary_standardized']]\n",
    "title_salary_df"
   ]
  },
  {
   "cell_type": "code",
   "execution_count": 13,
   "metadata": {},
   "outputs": [
    {
     "data": {
      "text/html": [
       "<div>\n",
       "<style scoped>\n",
       "    .dataframe tbody tr th:only-of-type {\n",
       "        vertical-align: middle;\n",
       "    }\n",
       "\n",
       "    .dataframe tbody tr th {\n",
       "        vertical-align: top;\n",
       "    }\n",
       "\n",
       "    .dataframe thead th {\n",
       "        text-align: right;\n",
       "    }\n",
       "</style>\n",
       "<table border=\"1\" class=\"dataframe\">\n",
       "  <thead>\n",
       "    <tr style=\"text-align: right;\">\n",
       "      <th></th>\n",
       "      <th>title</th>\n",
       "      <th>salary_standardized</th>\n",
       "    </tr>\n",
       "  </thead>\n",
       "  <tbody>\n",
       "    <tr>\n",
       "      <th>10</th>\n",
       "      <td>Data Management</td>\n",
       "      <td>119600.0</td>\n",
       "    </tr>\n",
       "    <tr>\n",
       "      <th>11</th>\n",
       "      <td>Sr. Data Analyst, Marketing Operations</td>\n",
       "      <td>96500.0</td>\n",
       "    </tr>\n",
       "    <tr>\n",
       "      <th>19</th>\n",
       "      <td>Sr. Data Analyst, Marketing Operations</td>\n",
       "      <td>96500.0</td>\n",
       "    </tr>\n",
       "    <tr>\n",
       "      <th>22</th>\n",
       "      <td>Sr. Data Analyst, Marketing Operations</td>\n",
       "      <td>96500.0</td>\n",
       "    </tr>\n",
       "    <tr>\n",
       "      <th>30</th>\n",
       "      <td>Sr. Data Analyst, Marketing Operations</td>\n",
       "      <td>96500.0</td>\n",
       "    </tr>\n",
       "    <tr>\n",
       "      <th>...</th>\n",
       "      <td>...</td>\n",
       "      <td>...</td>\n",
       "    </tr>\n",
       "    <tr>\n",
       "      <th>20430</th>\n",
       "      <td>Marketing Data &amp; Bi Analyst Ii</td>\n",
       "      <td>103781.0</td>\n",
       "    </tr>\n",
       "    <tr>\n",
       "      <th>20431</th>\n",
       "      <td>Lead-Data Analyst</td>\n",
       "      <td>144481.5</td>\n",
       "    </tr>\n",
       "    <tr>\n",
       "      <th>20432</th>\n",
       "      <td>Lead-Data Analyst</td>\n",
       "      <td>144481.5</td>\n",
       "    </tr>\n",
       "    <tr>\n",
       "      <th>20433</th>\n",
       "      <td>Lead-Data Analyst</td>\n",
       "      <td>144481.5</td>\n",
       "    </tr>\n",
       "    <tr>\n",
       "      <th>20434</th>\n",
       "      <td>Institutional Credit Management - Lending Data...</td>\n",
       "      <td>132315.0</td>\n",
       "    </tr>\n",
       "  </tbody>\n",
       "</table>\n",
       "<p>3893 rows × 2 columns</p>\n",
       "</div>"
      ],
      "text/plain": [
       "                                                   title  salary_standardized\n",
       "10                                       Data Management             119600.0\n",
       "11                Sr. Data Analyst, Marketing Operations              96500.0\n",
       "19                Sr. Data Analyst, Marketing Operations              96500.0\n",
       "22                Sr. Data Analyst, Marketing Operations              96500.0\n",
       "30                Sr. Data Analyst, Marketing Operations              96500.0\n",
       "...                                                  ...                  ...\n",
       "20430                     Marketing Data & Bi Analyst Ii             103781.0\n",
       "20431                                  Lead-Data Analyst             144481.5\n",
       "20432                                  Lead-Data Analyst             144481.5\n",
       "20433                                  Lead-Data Analyst             144481.5\n",
       "20434  Institutional Credit Management - Lending Data...             132315.0\n",
       "\n",
       "[3893 rows x 2 columns]"
      ]
     },
     "execution_count": 13,
     "metadata": {},
     "output_type": "execute_result"
    }
   ],
   "source": [
    "#drop NaN values from salary column\n",
    "title_salary_df = title_salary_df.dropna()\n",
    "title_salary_df\n"
   ]
  },
  {
   "cell_type": "code",
   "execution_count": 14,
   "metadata": {},
   "outputs": [],
   "source": [
    "#filter by the top ten job titles and gather average salary info\n",
    "title_for_ave = ['Data Analyst', 'Senior Data Analyst', 'Lead Data Analyst', 'Data Analyst Ii', 'Sr. Data Analyst, Marketing Operations', 'Business Data Analyst', 'Senior Data Analyst, Business Optimization', 'Data Scientist', 'Junior Data Analyst', 'Senior Performance Marketing (Data Analyst)']\n",
    "ave_salary = []\n",
    "\n",
    "for t in title_for_ave:\n",
    "    filter = title_salary_df.loc[title_salary_df['title'] == t]\n",
    "    ave_salary.append(filter['salary_standardized'].mean())\n"
   ]
  },
  {
   "cell_type": "code",
   "execution_count": 15,
   "metadata": {},
   "outputs": [
    {
     "data": {
      "image/png": "[encoded data removed]",
      "text/plain": [
       "<Figure size 1152x864 with 1 Axes>"
      ]
     },
     "metadata": {
      "needs_background": "light"
     },
     "output_type": "display_data"
    }
   ],
   "source": [
    "plt.figure(figsize=(16,12))\n",
    "plt.bar(title_for_ave, ave_salary, color = '#2E778D')\n",
    "plt.ylabel('$USD Per Year')\n",
    "plt.xlabel('Job Title')\n",
    "plt.title('Average Yearly Salary By Job Title (Top 10)')\n",
    "plt.xticks(rotation = 90)\n",
    "plt.savefig('../static/images/salary_per_title.png',bbox_inches = 'tight')\n",
    "plt.show()"
   ]
  },
  {
   "attachments": {},
   "cell_type": "markdown",
   "metadata": {},
   "source": [
    "## Location of job posting"
   ]
  },
  {
   "cell_type": "code",
   "execution_count": 30,
   "metadata": {},
   "outputs": [
    {
     "data": {
      "text/plain": [
       "via LinkedIn             6629\n",
       "via Upwork               3128\n",
       "via Trabajo.org          1473\n",
       "via BeBee                1395\n",
       "via ZipRecruiter         1289\n",
       "via Indeed               1113\n",
       "via Adzuna                410\n",
       "via Snagajob              379\n",
       "via Monster               335\n",
       "via My ArkLaMiss Jobs     276\n",
       "Name: via, dtype: int64"
      ]
     },
     "execution_count": 30,
     "metadata": {},
     "output_type": "execute_result"
    }
   ],
   "source": [
    "post_df = df['via'].value_counts()\n",
    "post_df.head(10)"
   ]
  },
  {
   "cell_type": "code",
   "execution_count": 33,
   "metadata": {},
   "outputs": [
    {
     "data": {
      "image/png": "[encoded data removed]",
      "text/plain": [
       "<Figure size 1152x864 with 1 Axes>"
      ]
     },
     "metadata": {
      "needs_background": "light"
     },
     "output_type": "display_data"
    }
   ],
   "source": [
    "#filter top 10 job titles\n",
    "top_ten_post = post_df.head(10)\n",
    "plt.figure(figsize=(16,12))\n",
    "top_ten_post.plot(kind='bar', color= '#2EB37E')\n",
    "plt.ylabel('Number of Job Postings')\n",
    "plt.xlabel('Job Posting Website')\n",
    "plt.title('Number of Postings Per Job Website (Top 10)')\n",
    "plt.show()"
   ]
  }
 ],
 "metadata": {
  "kernelspec": {
   "display_name": "PythonData",
   "language": "python",
   "name": "python3"
  },
  "language_info": {
   "codemirror_mode": {
    "name": "ipython",
    "version": 3
   },
   "file_extension": ".py",
   "mimetype": "text/x-python",
   "name": "python",
   "nbconvert_exporter": "python",
   "pygments_lexer": "ipython3",
   "version": "3.9.12"
  },
  "orig_nbformat": 4,
  "vscode": {
   "interpreter": {
    "hash": "cfe5946482b44ba494667c3075793eaef207b260f767ecb55b523455c1bba244"
   }
  }
 },
 "nbformat": 4,
 "nbformat_minor": 2
}
